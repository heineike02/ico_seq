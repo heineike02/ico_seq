{
 "cells": [
  {
   "cell_type": "code",
   "execution_count": 1,
   "metadata": {},
   "outputs": [
    {
     "name": "stdout",
     "output_type": "stream",
     "text": [
      "what computer are you on? a = Bens, b = gpucluster, c = other   a\n",
      "rna_seq base directory is C:\\Users\\heine\\github\\expression_broad_data\n",
      "Added C:\\Users\\heine\\github\\expression_broad_data to path: \n",
      "['', 'C:\\\\Users\\\\heine\\\\Anaconda3\\\\python36.zip', 'C:\\\\Users\\\\heine\\\\Anaconda3\\\\DLLs', 'C:\\\\Users\\\\heine\\\\Anaconda3\\\\lib', 'C:\\\\Users\\\\heine\\\\Anaconda3', 'C:\\\\Users\\\\heine\\\\Anaconda3\\\\lib\\\\site-packages', 'C:\\\\Users\\\\heine\\\\Anaconda3\\\\lib\\\\site-packages\\\\Babel-2.5.0-py3.6.egg', 'C:\\\\Users\\\\heine\\\\Anaconda3\\\\lib\\\\site-packages\\\\win32', 'C:\\\\Users\\\\heine\\\\Anaconda3\\\\lib\\\\site-packages\\\\win32\\\\lib', 'C:\\\\Users\\\\heine\\\\Anaconda3\\\\lib\\\\site-packages\\\\Pythonwin', 'C:\\\\Users\\\\heine\\\\Anaconda3\\\\lib\\\\site-packages\\\\IPython\\\\extensions', 'C:\\\\Users\\\\heine\\\\.ipython', 'C:\\\\Users\\\\heine\\\\github\\\\expression_broad_data']\n",
      "I am about to import a library\n",
      "I am importing io_library\n",
      "what computer are you on? a = Bens, b = gpucluster, c = other   a\n",
      "base directory is C:\\Users\\heine\\github\\expression_broad_data\n",
      "data processing dir is C:\\Users\\heine\\github\\expression_broad_data\\expression_data\\\n",
      "are you online? Yes/NoYes\n"
     ]
    }
   ],
   "source": [
    "# %load std_libraries.py\n",
    "# If I make many files here, would be good to do this\n",
    "import sys\n",
    "#Indicate operating environment and import core modules\n",
    "location_input = input(\"what computer are you on? a = Bens, b = gpucluster, c = other   \")\n",
    "location_dict = {'a': \"C:\\\\Users\\\\heine\\\\github\\\\expression_broad_data\", 'b': \"/home/heineike/github/expression_broad_data\",'c':'you need to add your location to the location_dict'}\n",
    "base_dir_rna_seq = location_dict[location_input]\n",
    "print(\"rna_seq base directory is \" + base_dir_rna_seq)\n",
    "\n",
    "if sys.path[-1] != base_dir_rna_seq:\n",
    "    sys.path.append(base_dir_rna_seq)\n",
    "    print(\"Added \" + base_dir_rna_seq + \" to path: \" )\n",
    "    print(sys.path)\n",
    "\n",
    "import os\n",
    "\n",
    "print(\"I am about to import a library\")\n",
    "from core import expression_plots \n",
    "from core import io_library \n",
    "%load_ext autoreload\n",
    "%autoreload 2\n",
    "# %matplotlib \n",
    "# plt.ioff()\n",
    "#%matplotlib inline\n",
    "%matplotlib notebook\n",
    "\n",
    "base_dir = os.path.normpath(\"C:/Users/heine/Google Drive/UCSF/Yeast_colony_drop_seq\")\n",
    "data_processing_dir = os.path.normpath(base_dir + os.sep + \"data\")\n",
    "#base_dir + os.sep + os.path.normpath(\"expression_data\") + os.sep\n",
    "\n",
    "import pandas as pd\n",
    "import numpy as np\n",
    "import matplotlib.pyplot as plt\n",
    "import matplotlib.colorbar as mpl_colorbar\n",
    "import matplotlib.colors as mpl_colors\n",
    "#import matplotlib.colormap as cm\n",
    "#from matplotlib_venn import venn2\n",
    "import seaborn as sns; sns.set(style=\"ticks\", color_codes=True)\n",
    "#from sklearn import linear_model\n",
    "#import pickle\n",
    "#import subprocess\n",
    "#import networkx as nx\n",
    "import scipy.stats as stats\n",
    "#import statsmodels.graphics.gofplots as stats_graph\n",
    "import scipy.cluster.hierarchy as sch\n",
    "from sklearn.decomposition import PCA\n",
    "from sklearn.cluster import KMeans\n",
    "\n",
    "\n",
    "# from Bio import SeqIO\n",
    "# from Bio import SeqFeature as sf\n",
    "# from Bio.SeqRecord import SeqRecord\n",
    "# from Bio.Alphabet import generic_dna\n",
    "# from Bio.Seq import Seq\n",
    "\n",
    "# import re\n",
    "\n",
    "# from collections import Counter\n",
    "# import scipy.stats as stats\n",
    "# from itertools import chain\n",
    "#from itertools import product\n",
    "#this only works if you are online\n",
    "online_input = input(\"are you online? Yes/No\")\n",
    "if online_input == \"Yes\": \n",
    "    import plotly.plotly as py\n",
    "    import plotly.graph_objs as pygo\n",
    "    import plotly.tools as pytools\n",
    "    py.sign_in('heineike02_student','9dMTMZgJMgUP0YX0P5mQ')\n",
    "    #py.sign_in('heineike02', 'APPjKrtARaN2ZgUYIkqr')\n",
    "    \n",
    "# for phylogenetic trees: \n",
    "# from ete3 import Tree\n",
    "\n",
    "#for scraping internet data (e.g. ncbi)\n",
    "#import requests\n",
    "#from lxml import etree    #parses xml output"
   ]
  },
  {
   "cell_type": "code",
   "execution_count": null,
   "metadata": {},
   "outputs": [],
   "source": []
  },
  {
   "cell_type": "code",
   "execution_count": null,
   "metadata": {},
   "outputs": [],
   "source": [
    "ARO4_lib_data = pd.read_table(data_processing_dir + os.sep + \"CA_out_gene_exon_tagged_2000.dge\")\n",
    "ARO4_lib_data.set_index('GENE', inplace = True)"
   ]
  }
 ],
 "metadata": {
  "kernelspec": {
   "display_name": "Python 3",
   "language": "python",
   "name": "python3"
  },
  "language_info": {
   "codemirror_mode": {
    "name": "ipython",
    "version": 3
   },
   "file_extension": ".py",
   "mimetype": "text/x-python",
   "name": "python",
   "nbconvert_exporter": "python",
   "pygments_lexer": "ipython3",
   "version": "3.7.0"
  }
 },
 "nbformat": 4,
 "nbformat_minor": 2
}
